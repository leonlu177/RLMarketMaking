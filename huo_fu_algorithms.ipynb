{
 "cells": [
  {
   "cell_type": "code",
   "execution_count": 1,
   "id": "f12176d3",
   "metadata": {},
   "outputs": [],
   "source": [
    "import numpy as np"
   ]
  },
  {
   "cell_type": "code",
   "execution_count": 2,
   "id": "3beebf65",
   "metadata": {},
   "outputs": [],
   "source": [
    "\"\"\"\n",
    "Helper to calculate \"I\" indicator for omega_M; Ri_bar represents the empirical mean of return for \n",
    "asset i as a function of t. Ti represents the number of times asset i has been selected during the past t-1 trials.\n",
    "\"\"\"\n",
    "def I(K, t):\n",
    "    if t <= K:\n",
    "        return t\n",
    "    else:\n",
    "        return np.argmax(Ri_bar(t)) + np.sqrt(2 * np.log(t) / (Ti * (t-1)))"
   ]
  },
  {
   "cell_type": "code",
   "execution_count": 4,
   "id": "cfd9e900",
   "metadata": {},
   "outputs": [],
   "source": [
    "\"\"\"\n",
    "*still need to implement how to select 'K'*\n",
    "\"\"\"\n",
    "def sequential_selection_algo(K, gamma_, lambda_, n):\n",
    "    for t in range(n):\n",
    "        #setting of omega_M (2.2)\n",
    "        curr_I = I(K, t)\n",
    "        omega_M = [0] * K\n",
    "        omega_M[curr_I] = 1\n",
    "        \n",
    "        #setting of omega_C (2.4)\n",
    "        omega_C\n",
    "        #see equation (2.3), not exactly sure what's going on here but it appears to be an argmin of some sort\n",
    "        #if possible please help implement the one equation for omega_C\n",
    "        omega_star = lambda_ * omega_M + (1 - lambda_) * omega_C\n",
    "        curr_returns = calculate_returns(omega_star, t)"
   ]
  },
  {
   "cell_type": "code",
   "execution_count": null,
   "id": "a666e213",
   "metadata": {},
   "outputs": [],
   "source": [
    "\"\"\"\n",
    "Helper to calculate returns on the selected portfolio. R(t) is a vector representing the returns associated with\n",
    "each piece of the portfolio - we can think of omega as the weights.\n",
    "\"\"\"\n",
    "def calculate_returns(omega, t):\n",
    "    return omega.T * R(t)"
   ]
  }
 ],
 "metadata": {
  "kernelspec": {
   "display_name": "Python 3",
   "language": "python",
   "name": "python3"
  },
  "language_info": {
   "codemirror_mode": {
    "name": "ipython",
    "version": 3
   },
   "file_extension": ".py",
   "mimetype": "text/x-python",
   "name": "python",
   "nbconvert_exporter": "python",
   "pygments_lexer": "ipython3",
   "version": "3.8.8"
  }
 },
 "nbformat": 4,
 "nbformat_minor": 5
}
