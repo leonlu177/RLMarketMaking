{
 "cells": [
  {
   "cell_type": "code",
   "execution_count": 1,
   "id": "f12176d3",
   "metadata": {},
   "outputs": [],
   "source": [
    "import numpy as np\n",
    "import scipy.optimize as opt\n",
    "from scipy.optimize import LinearConstraint, Bounds"
   ]
  },
  {
   "cell_type": "markdown",
   "metadata": {},
   "source": [
    "Huo and Fu basically interpolate between UCB1 and CVaR, both of which are implemented here to some extent. It's probably worth adding two more benchmarks (UCB1 and CVaR), since I've already written some code for it..."
   ]
  },
  {
   "cell_type": "code",
   "execution_count": null,
   "metadata": {},
   "outputs": [],
   "source": [
    "# globally accessible constants or data\n",
    "\n",
    "# number of assets\n",
    "K = 10\n",
    "\n",
    "# something about finance\n",
    "delta = 5\n",
    "\n",
    "# confidence level\n",
    "gamma = 0.95 # see page 7 below Theorem 2.2\n",
    "\n",
    "# time horizon\n",
    "time_horizon = 0 # not sure if this is actually a variable??\n",
    "\n",
    "# the number of times an asset has been picked; to be updated as the learner runs\n",
    "times_selected = np.zeros(K) # add to the corresponding entry whenever an asset is selected\n",
    "\n",
    "# shapes of matrices need to be fixed\n",
    "H_matrix = np.zeros(shape=(K, K)) # historical returns\n",
    "P_matrix = np.zeros(shape=(K, K)) # TODO: definition; price matrix?? (\"number of assets\" x \"time horizon\")?\n",
    "R_matrix = np.zeros(shape=(K, K)) # TODO: definition\n",
    "for t in range(time_horizon): # see definition of R above equation 2.1\n",
    "    R_matrix[t] = P_matrix[t + 1] / P_matrix[t]\n",
    "R_matrix = np.log(R_matrix)"
   ]
  },
  {
   "cell_type": "code",
   "execution_count": 2,
   "id": "3beebf65",
   "metadata": {},
   "outputs": [],
   "source": [
    "def I(t):\n",
    "    \"\"\"\n",
    "    Definition: Equation 2.1; follows the UCB1 algorithm.\n",
    "    t: the time\n",
    "\n",
    "    \"\"\"\n",
    "    if t < K: # sharp inequality because assets are 0, 1, ..., K - 1\n",
    "        return t\n",
    "    else:\n",
    "        R_bar = R_matrix.mean(axis=1) # take the mean of the returns matrix across the time axis\n",
    "        return np.argmax([R_bar[i] + np.sqrt((2 * np.log(t) / times_selected[i] * (t - 1))) for i in range(K)])"
   ]
  },
  {
   "cell_type": "code",
   "execution_count": null,
   "metadata": {},
   "outputs": [],
   "source": [
    "def F(gamma, u, alpha, t, H_matrix, R_matrix, delta=delta):\n",
    "    \"\"\"\n",
    "    Definition: Equation 2.3; estimates the conditional value-at-risk.\n",
    "    H_matrix: the s-th column of H_matrix (K rows, \\delta columns) is the historical returns of the s-th asset\n",
    "    R_matrix: the s-th column of R_matrix (K rows, t - 1 columns) is the trial of returns observed so far of the s-th asset\n",
    "    \"\"\"\n",
    "    sum1 = np.sum([np.max(-np.dot(H_matrix[s], u) - alpha, 0) for s in range(delta)])\n",
    "    sum2 = np.sum([np.max(-np.dot(R_matrix[s], u) - alpha, 0) for s in range(t - 1)])\n",
    "    return alpha + (sum1 + sum2) / ((delta + t - 1) * (1 - gamma))"
   ]
  },
  {
   "cell_type": "code",
   "execution_count": null,
   "metadata": {},
   "outputs": [],
   "source": [
    "def omega_C(t):\n",
    "    \"\"\"\n",
    "    Definition: Equation 2.4\n",
    "    Computes a risk-aware portfolio according to Equation 2.3.\n",
    "    t: the time\n",
    "    \"\"\"\n",
    "    # the objective function at iteration t\n",
    "    def F_t(args):\n",
    "        u, alpha = args[0], args[1]\n",
    "        return F(gamma, u, alpha, t, H_matrix, R_matrix)\n",
    "\n",
    "    # constraining u to be a probability distribution over 1, 2, ..., K\n",
    "    sum_to_one = LinearConstraint(np.ones(K), [0], [1])\n",
    "    positivity_bounds = Bounds(np.zeros(K), np.ones(K))\n",
    "\n",
    "    # scipy.optimize.minimize\n",
    "    x0 = np.ones(K + 1)\n",
    "    x0[:K] /= K # first K components should sum to 1; no idea what alpha (last component) should represent\n",
    "    approx_min = opt.minimize(\n",
    "        F_t, x0=x0,\n",
    "        constraints=[sum_to_one],\n",
    "        bounds=positivity_bounds\n",
    "    )\n",
    "    return approx_min"
   ]
  },
  {
   "cell_type": "code",
   "execution_count": 4,
   "id": "cfd9e900",
   "metadata": {},
   "outputs": [],
   "source": [
    "def sequential_selection_algo(K, lambda_, gamma=gamma, time_horizon=time_horizon):\n",
    "    \"\"\"\n",
    "    K: number of assets\n",
    "    gamma: confidence level\n",
    "    lambda_: risk preference\n",
    "    \"\"\"\n",
    "    returns = []\n",
    "    for t in range(time_horizon):\n",
    "        # Equation. 2.2: compute omega_M(t)\n",
    "        omega_M = np.zeros(K)\n",
    "        omega_M[I(t)] = 1\n",
    "        \n",
    "        # Equation 2.4: compute the risk aware portfolio\n",
    "        risk_aware_portfolio = omega_C(t)\n",
    "\n",
    "        # Equation 2.5: compute convex combination of UCB1 portfolio and risk aware portfolio\n",
    "        omega_star = lambda_ * omega_M + (1 - lambda_) * risk_aware_portfolio\n",
    "\n",
    "        # \"Receive portfolio reward\"\n",
    "        returns_by_t = np.dot(omega_star, R_matrix[:, t])\n",
    "        returns.append(returns_by_t)\n",
    "    return returns # idk what to return; there might be a formula somewhere"
   ]
  }
 ],
 "metadata": {
  "kernelspec": {
   "display_name": "Python 3",
   "language": "python",
   "name": "python3"
  },
  "language_info": {
   "codemirror_mode": {
    "name": "ipython",
    "version": 3
   },
   "file_extension": ".py",
   "mimetype": "text/x-python",
   "name": "python",
   "nbconvert_exporter": "python",
   "pygments_lexer": "ipython3",
   "version": "3.9.6"
  }
 },
 "nbformat": 4,
 "nbformat_minor": 5
}
