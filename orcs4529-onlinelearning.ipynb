{
 "cells": [
  {
   "cell_type": "code",
   "execution_count": 94,
   "metadata": {},
   "outputs": [],
   "source": [
    "import numpy as np\n",
    "import matplotlib.pyplot as plt"
   ]
  },
  {
   "cell_type": "code",
   "execution_count": 95,
   "metadata": {},
   "outputs": [],
   "source": [
    "def per_round_spread_based_strat(p_t, a_t, b, alpha):\n",
    "    \"\"\"\n",
    "    Based on Algorithm 1\n",
    "    p_t: p_t, the current price\n",
    "    a_t: a_t, the left bound of the current window\n",
    "    b: the window size\n",
    "    alpha: the liquidity density\n",
    "    \"\"\"\n",
    "    if p_t < a_t:\n",
    "        a_next = p_t\n",
    "    elif p_t > a_t + b:\n",
    "        a_next = p_t - b\n",
    "    else:\n",
    "        a_next = a_t\n",
    "\n",
    "    def limit_order(p):\n",
    "        \"\"\"\n",
    "        p: price at which shares are desired to be bought/sold; p \\in possible_prices\n",
    "        \"\"\"\n",
    "        if (a_next <= p) and (p <= a_next + b):\n",
    "            return 0\n",
    "        elif p > p_t: # sales\n",
    "            return alpha\n",
    "        else: # purchases\n",
    "            return alpha\n",
    "    return limit_order, a_next\n",
    "\n",
    "def spread_based_strat(b, T, prices, a1, possible_prices, alpha): # quantities available at each price level? should be # {time} x {price}\n",
    "    \"\"\"\n",
    "    b: window size\n",
    "    T: time horizon\n",
    "    prices: [p_t]_{t = 1}^T\n",
    "    a1: initial price p_1\n",
    "    \"\"\"\n",
    "    holdings = [0]\n",
    "    cash = [0]\n",
    "    portfolio_values = [0]\n",
    "    window_left_bounds = [a1]\n",
    "    for t in range(1, T):\n",
    "        current_limit_order, a_next = per_round_spread_based_strat(\n",
    "            prices[t], \n",
    "            window_left_bounds[-1], \n",
    "            b, alpha\n",
    "        )\n",
    "        window_left_bounds.append(a_next)\n",
    "\n",
    "        # see page 3, section Limit Order\n",
    "        if prices[t] > prices[t-1]:\n",
    "            for p in [p for p in possible_prices if (prices[t-1] < p) and (p <= prices[t])]:\n",
    "                cash.append(cash[-1] + (p * current_limit_order(p)))\n",
    "                holdings.append(holdings[-1] - current_limit_order(p))\n",
    "\n",
    "        elif prices[t] < prices[t-1]:\n",
    "            for p in [p for p in possible_prices if (prices[t] <= p) and (p < prices[t-1])]:\n",
    "                cash.append(cash[-1] - (p * current_limit_order(p)))\n",
    "                holdings.append(holdings[-1] + current_limit_order(p))\n",
    "\n",
    "        portfolio_values.append(cash[-1] + (prices[t] * holdings[-1]))\n",
    "\n",
    "        # now use current_limit_order to purchase\n",
    "    return cash, holdings, portfolio_values, window_left_bounds"
   ]
  },
  {
   "cell_type": "code",
   "execution_count": 136,
   "metadata": {},
   "outputs": [
    {
     "data": {
      "image/png": "[encoded data removed]",
      "text/plain": [
       "<Figure size 432x288 with 1 Axes>"
      ]
     },
     "metadata": {
      "needs_background": "light"
     },
     "output_type": "display_data"
    }
   ],
   "source": [
    "b = 1e-1 # window size\n",
    "delta = 1e-2 # discretization resolution of prices; can be assumed to be the reciprocal of an int\n",
    "alpha = 1e-2 # liquidity density\n",
    "M = 50 # upper bound on prices\n",
    "possible_prices = [p * delta for p in range(int(M / delta))] # notation: capital pi\n",
    "\n",
    "T = 200\n",
    "bernoulli_steps = (2 * np.random.binomial(1, 0.5, size=(T ** 2))) - 1\n",
    "discrete_bm = (1 / np.sqrt(T)) * np.array([5e-2 * t + bernoulli_steps[:int(np.floor(T * t))].sum() for t in range(T)])\n",
    "plt.scatter(range(T), np.exp(discrete_bm), s=7)\n",
    "plt.show()\n",
    "\n",
    "prices = discrete_bm"
   ]
  },
  {
   "cell_type": "code",
   "execution_count": 130,
   "metadata": {},
   "outputs": [],
   "source": [
    "cash, holdings, portfolio_values, window_left_bounds = spread_based_strat(\n",
    "    b, T, \n",
    "    prices, prices[0], \n",
    "    possible_prices, \n",
    "    alpha\n",
    ")"
   ]
  },
  {
   "cell_type": "code",
   "execution_count": 131,
   "metadata": {},
   "outputs": [
    {
     "data": {
      "text/plain": [
       "<matplotlib.collections.PathCollection at 0x133c7b0d0>"
      ]
     },
     "execution_count": 131,
     "metadata": {},
     "output_type": "execute_result"
    },
    {
     "data": {
      "image/png": "[encoded data removed]",
      "text/plain": [
       "<Figure size 432x288 with 1 Axes>"
      ]
     },
     "metadata": {
      "needs_background": "light"
     },
     "output_type": "display_data"
    }
   ],
   "source": [
    "plt.scatter(range(len(cash)), cash)"
   ]
  },
  {
   "cell_type": "code",
   "execution_count": 132,
   "metadata": {},
   "outputs": [
    {
     "data": {
      "text/plain": [
       "<matplotlib.collections.PathCollection at 0x133c7b550>"
      ]
     },
     "execution_count": 132,
     "metadata": {},
     "output_type": "execute_result"
    },
    {
     "data": {
      "image/png": "[encoded data removed]",
      "text/plain": [
       "<Figure size 432x288 with 1 Axes>"
      ]
     },
     "metadata": {
      "needs_background": "light"
     },
     "output_type": "display_data"
    }
   ],
   "source": [
    "plt.scatter(range(len(holdings)), holdings)"
   ]
  },
  {
   "cell_type": "code",
   "execution_count": 133,
   "metadata": {},
   "outputs": [
    {
     "data": {
      "text/plain": [
       "<matplotlib.collections.PathCollection at 0x133dd6fd0>"
      ]
     },
     "execution_count": 133,
     "metadata": {},
     "output_type": "execute_result"
    },
    {
     "data": {
      "image/png": "[encoded data removed]",
      "text/plain": [
       "<Figure size 432x288 with 1 Axes>"
      ]
     },
     "metadata": {
      "needs_background": "light"
     },
     "output_type": "display_data"
    }
   ],
   "source": [
    "plt.scatter(range(len(portfolio_values)), portfolio_values)"
   ]
  },
  {
   "cell_type": "code",
   "execution_count": null,
   "metadata": {},
   "outputs": [],
   "source": []
  }
 ],
 "metadata": {
  "kernelspec": {
   "display_name": "base",
   "language": "python",
   "name": "python3"
  },
  "language_info": {
   "codemirror_mode": {
    "name": "ipython",
    "version": 3
   },
   "file_extension": ".py",
   "mimetype": "text/x-python",
   "name": "python",
   "nbconvert_exporter": "python",
   "pygments_lexer": "ipython3",
   "version": "3.9.6"
  }
 },
 "nbformat": 4,
 "nbformat_minor": 2
}
